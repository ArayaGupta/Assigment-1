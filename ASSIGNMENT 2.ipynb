{
 "cells": [
  {
   "cell_type": "markdown",
   "id": "f5a3abbf-4b33-4781-b618-ba691eadcd88",
   "metadata": {},
   "source": [
    "**ARAYA GUPTA 590010581 CLASS ASSIGNMENT**"
   ]
  },
  {
   "cell_type": "markdown",
   "id": "a571b832-2da1-480e-ad1f-a1f926505109",
   "metadata": {},
   "source": [
    "**Question: WAP with 2 functions: 1) Takes n inputs and returns data entered by the user as a list. Values should be integer only. Use either input n, or use stop input, or use map. 2) Function that takes 1 input arguement, a list. Compute SUM, AVG, MIN, MAX and CUMULATIVE SUM. NOW USE BOTH THESE FUNCTIONS TOGETHER.**"
   ]
  },
  {
   "cell_type": "code",
   "execution_count": 4,
   "id": "d5fac3bc-bd3d-441b-8314-255ba7b9466c",
   "metadata": {},
   "outputs": [
    {
     "name": "stdin",
     "output_type": "stream",
     "text": [
      "Enter Integers Separated by Space:  AG FF\n"
     ]
    },
    {
     "name": "stdout",
     "output_type": "stream",
     "text": [
      "Check your input again and try again.\n"
     ]
    },
    {
     "name": "stdin",
     "output_type": "stream",
     "text": [
      "Enter Integers Separated by Space:  11 22 33 44 55 66\n"
     ]
    },
    {
     "name": "stdout",
     "output_type": "stream",
     "text": [
      "List Entered: [11, 22, 33, 44, 55, 66]\n",
      "Sum: 231\n",
      "Average: 38.5\n",
      "Minimum: 11\n",
      "Maximum: 66\n",
      "Cumulative Sum: [11, 33, 66, 110, 165, 231]\n"
     ]
    }
   ],
   "source": [
    "def convert_to_list():\n",
    "  while True:\n",
    "    user_input = input(\"Enter Integers Separated by Space: \")\n",
    "    try:\n",
    "      mylist = list(map(int, user_input.split()))\n",
    "      print(f\"List Entered: {mylist}\")\n",
    "      break\n",
    "    except:\n",
    "      print(\"Check your input again and try again.\")\n",
    "  return mylist\n",
    "\n",
    "def list_operations(mylist):\n",
    "    return sum(mylist), sum(mylist)/len(mylist) if mylist else 0, min(mylist), max(mylist), calculate_cumulative_sum(mylist)\n",
    "\n",
    "def calculate_cumulative_sum(mylist):\n",
    "    cumulative_sum = []\n",
    "    total = 0\n",
    "    for num in mylist:\n",
    "        total += num\n",
    "        cumulative_sum.append(total)\n",
    "    return cumulative_sum\n",
    "\n",
    "def main():\n",
    "  mylist = convert_to_list()\n",
    "  a,b,c,d,e = list_operations(mylist)\n",
    "  print(f\"Sum: {a}\")\n",
    "  print(f\"Average: {b}\")\n",
    "  print(f\"Minimum: {c}\")\n",
    "  print(f\"Maximum: {d}\")\n",
    "  print(f\"Cumulative Sum: {e}\")\n",
    "\n",
    "main()"
   ]
  },
  {
   "cell_type": "code",
   "execution_count": null,
   "id": "187b0d8a-c3a1-4485-81dc-8f46c6c0d027",
   "metadata": {},
   "outputs": [],
   "source": []
  }
 ],
 "metadata": {
  "kernelspec": {
   "display_name": "Python 3 (ipykernel)",
   "language": "python",
   "name": "python3"
  },
  "language_info": {
   "codemirror_mode": {
    "name": "ipython",
    "version": 3
   },
   "file_extension": ".py",
   "mimetype": "text/x-python",
   "name": "python",
   "nbconvert_exporter": "python",
   "pygments_lexer": "ipython3",
   "version": "3.11.7"
  }
 },
 "nbformat": 4,
 "nbformat_minor": 5
}
