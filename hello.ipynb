{
 "cells": [
  {
   "cell_type": "markdown",
   "id": "1909f613-f750-4410-80f5-1325e042669a",
   "metadata": {},
   "source": [
    "Assignment 1\r\n",
    "\r\n",
    "#Question 1 - Write a Python script that prints your name, course name, and the Python version you're using.\r\n",
    "\r\n",
    "Execute the script from the command line and include a screenshot of the outp.PNG)\r\n",
    "\r\n"
   ]
  },
  {
   "cell_type": "markdown",
   "id": "b14abc8b-cac1-4836-8240-9d9a8bad3f59",
   "metadata": {},
   "source": [
    "![label1](./picc.PNG)"
   ]
  },
  {
   "cell_type": "code",
   "execution_count": 8,
   "id": "e7e8ec3a-6194-4024-9898-8e6eac3549ed",
   "metadata": {},
   "outputs": [
    {
     "name": "stdout",
     "output_type": "stream",
     "text": [
      "Hello, Python World!\n"
     ]
    }
   ],
   "source": [
    "print(\"Hello, Python World!\") #Printing statement"
   ]
  },
  {
   "cell_type": "code",
   "execution_count": 10,
   "id": "67f1ecc3-e04e-48a9-870e-0836f93acd7b",
   "metadata": {},
   "outputs": [
    {
     "name": "stdin",
     "output_type": "stream",
     "text": [
      "Enter your first name:  Araya \n",
      "Enter your last name:  Gupta\n"
     ]
    },
    {
     "name": "stdout",
     "output_type": "stream",
     "text": [
      "atpuG ayarA\n"
     ]
    }
   ],
   "source": [
    "# Take user input for first and last name\n",
    "first_name = input(\"Enter your first name: \").strip()  # Removes any leading or trailing spaces\n",
    "last_name = input(\"Enter your last name: \").strip()    # Removes any leading or trailing spaces\n",
    "\n",
    "# Reverse the names using slicing\n",
    "reversed_first_name = first_name[::-1]  # Reverses the string using slicing\n",
    "reversed_last_name = last_name[::-1]    # Reverses the string using slicing\n",
    "\n",
    "# Print the reversed names in reverse order with a space between them\n",
    "print(reversed_last_name + \" \" + reversed_first_name)"
   ]
  },
  {
   "cell_type": "code",
   "execution_count": 14,
   "id": "75880a41-6519-42ca-9da9-dbc4bcd3de50",
   "metadata": {},
   "outputs": [
    {
     "name": "stdin",
     "output_type": "stream",
     "text": [
      "Enter a number:  15\n"
     ]
    },
    {
     "name": "stdout",
     "output_type": "stream",
     "text": [
      "Integer value: 15\n",
      "Float value: 15.0\n",
      "Complex value: (15+0j)\n"
     ]
    }
   ],
   "source": [
    "# Take user input as a string\n",
    "user_input = input(\"Enter a number: \")\n",
    "\n",
    "# Convert the input to an integer\n",
    "# Integers are whole numbers without any decimal point.\n",
    "int_value = int(float(user_input))  # We convert to float first to handle decimal input, then to int\n",
    "\n",
    "# Convert the input to a float\n",
    "# Floats are numbers with a decimal point.\n",
    "float_value = float(user_input)\n",
    "\n",
    "# Convert the input to a complex number\n",
    "# Complex numbers have a real part and an imaginary part, written as 'a + bj'.\n",
    "complex_value = complex(user_input)\n",
    "\n",
    "# Display the converted values\n",
    "print(f\"Integer value: {int_value}\")\n",
    "print(f\"Float value: {float_value}\")\n",
    "print(f\"Complex value: {complex_value}\")\n",
    "\n",
    "# #Integer (int):\n",
    "# Whole numbers without a decimal point, like 5, -3, or 0.\n",
    "\n",
    "# Float (float):\n",
    "# Numbers with a decimal point, like 4.5, -0.1, or 3.0.\n",
    "\n",
    "# Complex (complex):\n",
    "# Numbers with a real and an imaginary part, written as a + bj (e.g., 2 + 3j)."
   ]
  },
  {
   "cell_type": "code",
   "execution_count": 16,
   "id": "33a99e8d-afab-4dff-a541-c930a47075d6",
   "metadata": {},
   "outputs": [
    {
     "name": "stdin",
     "output_type": "stream",
     "text": [
      "Enter the length of the rectangle:  4\n",
      "Enter the width of the rectangle:  2\n"
     ]
    },
    {
     "name": "stdout",
     "output_type": "stream",
     "text": [
      "The area of the rectangle is: 8.0\n"
     ]
    }
   ],
   "source": [
    "# Prompt the user to enter the length of the rectangle\n",
    "length = float(input(\"Enter the length of the rectangle: \"))\n",
    "\n",
    "# Prompt the user to enter the width of the rectangle\n",
    "width = float(input(\"Enter the width of the rectangle: \"))\n",
    "\n",
    "# Calculate the area of the rectangle\n",
    "area = length * width\n",
    "\n",
    "# Display the result\n",
    "print(f\"The area of the rectangle is: {area}\")"
   ]
  },
  {
   "cell_type": "code",
   "execution_count": 18,
   "id": "0380abde-d099-4d44-abab-46f402ae28a8",
   "metadata": {},
   "outputs": [
    {
     "name": "stdout",
     "output_type": "stream",
     "text": [
      "The area of the rectangle is: 8.00\n"
     ]
    }
   ],
   "source": [
    "# Display the result formatted to two decimal places\n",
    "print(f\"The area of the rectangle is: {area:.2f}\")\n"
   ]
  },
  {
   "cell_type": "code",
   "execution_count": 20,
   "id": "9b10d3db-0951-4382-9c81-fc7cfaf89a77",
   "metadata": {},
   "outputs": [
    {
     "name": "stdin",
     "output_type": "stream",
     "text": [
      "Enter the first number:  2\n",
      "Enter the second number:  4\n",
      "Enter the third number:  6\n"
     ]
    },
    {
     "name": "stdout",
     "output_type": "stream",
     "text": [
      "The average of the three numbers is: 4.00\n"
     ]
    }
   ],
   "source": [
    "# Prompt the user to enter three numbers\n",
    "num1 = float(input(\"Enter the first number: \"))\n",
    "num2 = float(input(\"Enter the second number: \"))\n",
    "num3 = float(input(\"Enter the third number: \"))\n",
    "\n",
    "# Calculate the average of the three numbers\n",
    "average = (num1 + num2 + num3) / 3\n",
    "\n",
    "# Display the result using % formatting\n",
    "print(\"The average of the three numbers is: %.2f\" % average)\n"
   ]
  },
  {
   "cell_type": "code",
   "execution_count": 22,
   "id": "19f1ba58-e32d-443b-a3bb-582644e27e17",
   "metadata": {},
   "outputs": [
    {
     "name": "stdin",
     "output_type": "stream",
     "text": [
      "Enter a number:  -1\n"
     ]
    },
    {
     "name": "stdout",
     "output_type": "stream",
     "text": [
      "The number is negative.\n"
     ]
    }
   ],
   "source": [
    "# Ask the user for a number\n",
    "number = float(input(\"Enter a number: \"))\n",
    "\n",
    "# Determine if the number is positive, negative, or zero using if elif and else statement\n",
    "if number > 0:\n",
    "    print(\"The number is positive.\")\n",
    "elif number < 0:\n",
    "    print(\"The number is negative.\")\n",
    "else:\n",
    "    print(\"The number is zero.\")"
   ]
  },
  {
   "cell_type": "code",
   "execution_count": 24,
   "id": "a855b56c-6dfe-48f9-adcd-9dd3ced24585",
   "metadata": {},
   "outputs": [
    {
     "name": "stdin",
     "output_type": "stream",
     "text": [
      "Enter a number (or type 'exit' to quit):  22\n"
     ]
    },
    {
     "name": "stdout",
     "output_type": "stream",
     "text": [
      "The number is positive.\n"
     ]
    },
    {
     "name": "stdin",
     "output_type": "stream",
     "text": [
      "Enter a number (or type 'exit' to quit):  exit\n"
     ]
    },
    {
     "name": "stdout",
     "output_type": "stream",
     "text": [
      "Exiting the program. Goodbye!\n"
     ]
    }
   ],
   "source": [
    "while True:\n",
    "    # Ask the user for input\n",
    "    user_input = input(\"Enter a number (or type 'exit' to quit): \")\n",
    "    \n",
    "    # Check if the user wants to exit\n",
    "    if user_input.lower() == 'exit':\n",
    "        print(\"Exiting the program. Goodbye!\")\n",
    "        break\n",
    "    \n",
    "    else:\n",
    "        # Convert input to a float and determine if it is positive, negative, or zero\n",
    "        number = float(user_input)\n",
    "        \n",
    "        if number > 0:\n",
    "            print(\"The number is positive.\")\n",
    "        elif number < 0:\n",
    "            print(\"The number is negative.\")\n",
    "        else:\n",
    "            print(\"The number is zero.\")"
   ]
  },
  {
   "cell_type": "code",
   "execution_count": 28,
   "id": "3c4036c3-a474-4a62-a608-a5b3fdcac17f",
   "metadata": {},
   "outputs": [
    {
     "name": "stdin",
     "output_type": "stream",
     "text": [
      "Enter the first number:  3\n",
      "Enter the second number:  4\n"
     ]
    },
    {
     "name": "stdout",
     "output_type": "stream",
     "text": [
      "One number is even and the other is odd.\n"
     ]
    }
   ],
   "source": [
    "# Input two numbers from the user\n",
    "first_number = int(input(\"Enter the first number: \"))\n",
    "second_number = int(input(\"Enter the second number: \"))\n",
    "\n",
    "# Check whether both numbers are even, odd, or one of each using relational and logical operator\n",
    "if first_number % 2 == 0 and second_number % 2 == 0:\n",
    "    print(\"Both numbers are even.\")\n",
    "elif first_number % 2 != 0 and second_number % 2 != 0:\n",
    "    print(\"Both numbers are odd.\")\n",
    "else:\n",
    "    print(\"One number is even and the other is odd.\")"
   ]
  },
  {
   "cell_type": "code",
   "execution_count": 30,
   "id": "58ce622d-794e-4233-aeef-03e4bf1c0ca5",
   "metadata": {},
   "outputs": [
    {
     "name": "stdin",
     "output_type": "stream",
     "text": [
      "Enter an integer:  8\n"
     ]
    },
    {
     "name": "stdout",
     "output_type": "stream",
     "text": [
      "Binary: 1000\n",
      "Octal: 10\n",
      "Hexadecimal: 1\n"
     ]
    }
   ],
   "source": [
    "# Function to convert a number to binary, octal, and hexadecimal using bitwise operations\n",
    "def convert_number(num):\n",
    "    # Binary conversion\n",
    "    binary = ''\n",
    "    for i in range(num.bit_length(), -1, -1):\n",
    "        binary += '1' if (num >> i) & 1 else '0'\n",
    "    binary = binary.lstrip('0') or '0'  # Remove leading zeros\n",
    "\n",
    "    # Octal conversion\n",
    "    octal = ''\n",
    "    for i in range(num.bit_length() - 1, -1, -3):  # Group by 3 bits for octal\n",
    "        octal_digit = (num >> i) & 7  # Extract 3 bits at a time\n",
    "        octal += str(octal_digit)\n",
    "    octal = octal.lstrip('0') or '0'  # Remove leading zeros\n",
    "\n",
    "    # Hexadecimal conversion\n",
    "    hex_digits = \"0123456789ABCDEF\"\n",
    "    hexadecimal = ''\n",
    "    for i in range(num.bit_length() - 1, -1, -4):  # Group by 4 bits for hexadecimal\n",
    "        hex_digit = (num >> i) & 15  # Extract 4 bits at a time\n",
    "        hexadecimal += hex_digits[hex_digit]\n",
    "    hexadecimal = hexadecimal.lstrip('0') or '0'  # Remove leading zeros\n",
    "\n",
    "    print(f\"Binary: {binary}\")\n",
    "    print(f\"Octal: {octal}\")\n",
    "    print(f\"Hexadecimal: {hexadecimal}\")\n",
    "\n",
    "# Take integer input from the user\n",
    "number = int(input(\"Enter an integer: \"))\n",
    "convert_number(number)"
   ]
  },
  {
   "cell_type": "code",
   "execution_count": null,
   "id": "14ed08e6-1f7f-4f76-80dd-ac15377c35f1",
   "metadata": {},
   "outputs": [],
   "source": []
  }
 ],
 "metadata": {
  "kernelspec": {
   "display_name": "Python 3 (ipykernel)",
   "language": "python",
   "name": "python3"
  },
  "language_info": {
   "codemirror_mode": {
    "name": "ipython",
    "version": 3
   },
   "file_extension": ".py",
   "mimetype": "text/x-python",
   "name": "python",
   "nbconvert_exporter": "python",
   "pygments_lexer": "ipython3",
   "version": "3.11.7"
  }
 },
 "nbformat": 4,
 "nbformat_minor": 5
}
